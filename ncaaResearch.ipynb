{
 "cells": [
  {
   "cell_type": "markdown",
   "metadata": {},
   "source": [
    "# Setup"
   ]
  },
  {
   "cell_type": "markdown",
   "metadata": {},
   "source": [
    "## Import packages and path"
   ]
  },
  {
   "cell_type": "code",
   "execution_count": 14,
   "metadata": {},
   "outputs": [],
   "source": [
    "import numpy as np\n",
    "import pandas as pd\n",
    "import seaborn as sns\n",
    "import sklearn as sk\n",
    "import matplotlib.pyplot as plt\n",
    "\n",
    "wd = \"~/Documents/projects/ncaa\"\n",
    "wd_data = wd + \"/data\""
   ]
  },
  {
   "cell_type": "markdown",
   "metadata": {},
   "source": [
    "## Import data"
   ]
  },
  {
   "cell_type": "code",
   "execution_count": 100,
   "metadata": {},
   "outputs": [],
   "source": [
    "players = pd.read_csv(wd_data + \"/MPlayers.csv\")\n",
    "\n",
    "events_list = []\n",
    "event_years = []\n",
    "file_name = \"MEvents\"\n",
    "years = np.arange(2015, 2020)\n",
    "\n",
    "for y in years:\n",
    "    event_years.append((file_name + str(y)))\n",
    "\n",
    "for e in event_years:\n",
    "    events_list.append(pd.read_csv(wd_data + \"/\" + e + \".csv\"))\n",
    "\n",
    "events_list = pd.DataFrame(events_list)"
   ]
  },
  {
   "cell_type": "code",
   "execution_count": 119,
   "metadata": {},
   "outputs": [],
   "source": [
    "event_2015 = events_list[0][0]\n",
    "\n",
    "for i in range(1,len(events_list)):\n",
    "    events = event_2015.append(events_list[0][i])"
   ]
  },
  {
   "cell_type": "markdown",
   "metadata": {},
   "source": [
    "# Research data"
   ]
  },
  {
   "cell_type": "markdown",
   "metadata": {},
   "source": [
    "## Head and Tail"
   ]
  },
  {
   "cell_type": "code",
   "execution_count": 131,
   "metadata": {},
   "outputs": [
    {
     "data": {
      "text/html": [
       "<div>\n",
       "<style scoped>\n",
       "    .dataframe tbody tr th:only-of-type {\n",
       "        vertical-align: middle;\n",
       "    }\n",
       "\n",
       "    .dataframe tbody tr th {\n",
       "        vertical-align: top;\n",
       "    }\n",
       "\n",
       "    .dataframe thead th {\n",
       "        text-align: right;\n",
       "    }\n",
       "</style>\n",
       "<table border=\"1\" class=\"dataframe\">\n",
       "  <thead>\n",
       "    <tr style=\"text-align: right;\">\n",
       "      <th></th>\n",
       "      <th>EventID</th>\n",
       "      <th>Season</th>\n",
       "      <th>DayNum</th>\n",
       "      <th>WTeamID</th>\n",
       "      <th>LTeamID</th>\n",
       "      <th>WFinalScore</th>\n",
       "      <th>LFinalScore</th>\n",
       "      <th>WCurrentScore</th>\n",
       "      <th>LCurrentScore</th>\n",
       "      <th>ElapsedSeconds</th>\n",
       "      <th>EventTeamID</th>\n",
       "      <th>EventPlayerID</th>\n",
       "      <th>EventType</th>\n",
       "      <th>EventSubType</th>\n",
       "      <th>X</th>\n",
       "      <th>Y</th>\n",
       "      <th>Area</th>\n",
       "    </tr>\n",
       "  </thead>\n",
       "  <tbody>\n",
       "    <tr>\n",
       "      <th>0</th>\n",
       "      <td>1</td>\n",
       "      <td>2015</td>\n",
       "      <td>11</td>\n",
       "      <td>1103</td>\n",
       "      <td>1420</td>\n",
       "      <td>74</td>\n",
       "      <td>57</td>\n",
       "      <td>0</td>\n",
       "      <td>0</td>\n",
       "      <td>19</td>\n",
       "      <td>1103</td>\n",
       "      <td>100</td>\n",
       "      <td>miss3</td>\n",
       "      <td>unk</td>\n",
       "      <td>0</td>\n",
       "      <td>0</td>\n",
       "      <td>0</td>\n",
       "    </tr>\n",
       "    <tr>\n",
       "      <th>1</th>\n",
       "      <td>2</td>\n",
       "      <td>2015</td>\n",
       "      <td>11</td>\n",
       "      <td>1103</td>\n",
       "      <td>1420</td>\n",
       "      <td>74</td>\n",
       "      <td>57</td>\n",
       "      <td>0</td>\n",
       "      <td>0</td>\n",
       "      <td>19</td>\n",
       "      <td>1420</td>\n",
       "      <td>11784</td>\n",
       "      <td>reb</td>\n",
       "      <td>def</td>\n",
       "      <td>0</td>\n",
       "      <td>0</td>\n",
       "      <td>0</td>\n",
       "    </tr>\n",
       "    <tr>\n",
       "      <th>2</th>\n",
       "      <td>3</td>\n",
       "      <td>2015</td>\n",
       "      <td>11</td>\n",
       "      <td>1103</td>\n",
       "      <td>1420</td>\n",
       "      <td>74</td>\n",
       "      <td>57</td>\n",
       "      <td>0</td>\n",
       "      <td>0</td>\n",
       "      <td>27</td>\n",
       "      <td>1420</td>\n",
       "      <td>11789</td>\n",
       "      <td>made2</td>\n",
       "      <td>dunk</td>\n",
       "      <td>0</td>\n",
       "      <td>0</td>\n",
       "      <td>0</td>\n",
       "    </tr>\n",
       "    <tr>\n",
       "      <th>3</th>\n",
       "      <td>4</td>\n",
       "      <td>2015</td>\n",
       "      <td>11</td>\n",
       "      <td>1103</td>\n",
       "      <td>1420</td>\n",
       "      <td>74</td>\n",
       "      <td>57</td>\n",
       "      <td>0</td>\n",
       "      <td>0</td>\n",
       "      <td>27</td>\n",
       "      <td>1420</td>\n",
       "      <td>11803</td>\n",
       "      <td>assist</td>\n",
       "      <td>NaN</td>\n",
       "      <td>0</td>\n",
       "      <td>0</td>\n",
       "      <td>0</td>\n",
       "    </tr>\n",
       "    <tr>\n",
       "      <th>4</th>\n",
       "      <td>5</td>\n",
       "      <td>2015</td>\n",
       "      <td>11</td>\n",
       "      <td>1103</td>\n",
       "      <td>1420</td>\n",
       "      <td>74</td>\n",
       "      <td>57</td>\n",
       "      <td>0</td>\n",
       "      <td>0</td>\n",
       "      <td>59</td>\n",
       "      <td>1103</td>\n",
       "      <td>87</td>\n",
       "      <td>made2</td>\n",
       "      <td>jump</td>\n",
       "      <td>0</td>\n",
       "      <td>0</td>\n",
       "      <td>0</td>\n",
       "    </tr>\n",
       "    <tr>\n",
       "      <th>...</th>\n",
       "      <td>...</td>\n",
       "      <td>...</td>\n",
       "      <td>...</td>\n",
       "      <td>...</td>\n",
       "      <td>...</td>\n",
       "      <td>...</td>\n",
       "      <td>...</td>\n",
       "      <td>...</td>\n",
       "      <td>...</td>\n",
       "      <td>...</td>\n",
       "      <td>...</td>\n",
       "      <td>...</td>\n",
       "      <td>...</td>\n",
       "      <td>...</td>\n",
       "      <td>...</td>\n",
       "      <td>...</td>\n",
       "      <td>...</td>\n",
       "    </tr>\n",
       "    <tr>\n",
       "      <th>2706963</th>\n",
       "      <td>13149680</td>\n",
       "      <td>2019</td>\n",
       "      <td>152</td>\n",
       "      <td>1438</td>\n",
       "      <td>1120</td>\n",
       "      <td>63</td>\n",
       "      <td>62</td>\n",
       "      <td>10</td>\n",
       "      <td>11</td>\n",
       "      <td>421</td>\n",
       "      <td>1438</td>\n",
       "      <td>12422</td>\n",
       "      <td>sub</td>\n",
       "      <td>out</td>\n",
       "      <td>0</td>\n",
       "      <td>0</td>\n",
       "      <td>0</td>\n",
       "    </tr>\n",
       "    <tr>\n",
       "      <th>2706964</th>\n",
       "      <td>13149681</td>\n",
       "      <td>2019</td>\n",
       "      <td>152</td>\n",
       "      <td>1438</td>\n",
       "      <td>1120</td>\n",
       "      <td>63</td>\n",
       "      <td>62</td>\n",
       "      <td>0</td>\n",
       "      <td>0</td>\n",
       "      <td>421</td>\n",
       "      <td>1438</td>\n",
       "      <td>12402</td>\n",
       "      <td>sub</td>\n",
       "      <td>in</td>\n",
       "      <td>0</td>\n",
       "      <td>0</td>\n",
       "      <td>0</td>\n",
       "    </tr>\n",
       "    <tr>\n",
       "      <th>2706965</th>\n",
       "      <td>13149682</td>\n",
       "      <td>2019</td>\n",
       "      <td>152</td>\n",
       "      <td>1438</td>\n",
       "      <td>1120</td>\n",
       "      <td>63</td>\n",
       "      <td>62</td>\n",
       "      <td>10</td>\n",
       "      <td>11</td>\n",
       "      <td>421</td>\n",
       "      <td>1120</td>\n",
       "      <td>695</td>\n",
       "      <td>sub</td>\n",
       "      <td>out</td>\n",
       "      <td>0</td>\n",
       "      <td>0</td>\n",
       "      <td>0</td>\n",
       "    </tr>\n",
       "    <tr>\n",
       "      <th>2706966</th>\n",
       "      <td>13149683</td>\n",
       "      <td>2019</td>\n",
       "      <td>152</td>\n",
       "      <td>1438</td>\n",
       "      <td>1120</td>\n",
       "      <td>63</td>\n",
       "      <td>62</td>\n",
       "      <td>0</td>\n",
       "      <td>0</td>\n",
       "      <td>421</td>\n",
       "      <td>1120</td>\n",
       "      <td>718</td>\n",
       "      <td>sub</td>\n",
       "      <td>in</td>\n",
       "      <td>0</td>\n",
       "      <td>0</td>\n",
       "      <td>0</td>\n",
       "    </tr>\n",
       "    <tr>\n",
       "      <th>2706967</th>\n",
       "      <td>13149684</td>\n",
       "      <td>2019</td>\n",
       "      <td>152</td>\n",
       "      <td>1438</td>\n",
       "      <td>1120</td>\n",
       "      <td>63</td>\n",
       "      <td>62</td>\n",
       "      <td>10</td>\n",
       "      <td>13</td>\n",
       "      <td>442</td>\n",
       "      <td>1120</td>\n",
       "      <td>736</td>\n",
       "      <td>made2</td>\n",
       "      <td>jump</td>\n",
       "      <td>87</td>\n",
       "      <td>48</td>\n",
       "      <td>2</td>\n",
       "    </tr>\n",
       "  </tbody>\n",
       "</table>\n",
       "<p>5267793 rows × 17 columns</p>\n",
       "</div>"
      ],
      "text/plain": [
       "          EventID  Season  DayNum  WTeamID  LTeamID  WFinalScore  LFinalScore  \\\n",
       "0               1    2015      11     1103     1420           74           57   \n",
       "1               2    2015      11     1103     1420           74           57   \n",
       "2               3    2015      11     1103     1420           74           57   \n",
       "3               4    2015      11     1103     1420           74           57   \n",
       "4               5    2015      11     1103     1420           74           57   \n",
       "...           ...     ...     ...      ...      ...          ...          ...   \n",
       "2706963  13149680    2019     152     1438     1120           63           62   \n",
       "2706964  13149681    2019     152     1438     1120           63           62   \n",
       "2706965  13149682    2019     152     1438     1120           63           62   \n",
       "2706966  13149683    2019     152     1438     1120           63           62   \n",
       "2706967  13149684    2019     152     1438     1120           63           62   \n",
       "\n",
       "         WCurrentScore  LCurrentScore  ElapsedSeconds  EventTeamID  \\\n",
       "0                    0              0              19         1103   \n",
       "1                    0              0              19         1420   \n",
       "2                    0              0              27         1420   \n",
       "3                    0              0              27         1420   \n",
       "4                    0              0              59         1103   \n",
       "...                ...            ...             ...          ...   \n",
       "2706963             10             11             421         1438   \n",
       "2706964              0              0             421         1438   \n",
       "2706965             10             11             421         1120   \n",
       "2706966              0              0             421         1120   \n",
       "2706967             10             13             442         1120   \n",
       "\n",
       "         EventPlayerID EventType EventSubType   X   Y  Area  \n",
       "0                  100     miss3          unk   0   0     0  \n",
       "1                11784       reb          def   0   0     0  \n",
       "2                11789     made2         dunk   0   0     0  \n",
       "3                11803    assist          NaN   0   0     0  \n",
       "4                   87     made2         jump   0   0     0  \n",
       "...                ...       ...          ...  ..  ..   ...  \n",
       "2706963          12422       sub          out   0   0     0  \n",
       "2706964          12402       sub           in   0   0     0  \n",
       "2706965            695       sub          out   0   0     0  \n",
       "2706966            718       sub           in   0   0     0  \n",
       "2706967            736     made2         jump  87  48     2  \n",
       "\n",
       "[5267793 rows x 17 columns]"
      ]
     },
     "execution_count": 131,
     "metadata": {},
     "output_type": "execute_result"
    }
   ],
   "source": [
    "events"
   ]
  },
  {
   "cell_type": "code",
   "execution_count": 121,
   "metadata": {},
   "outputs": [
    {
     "name": "stdout",
     "output_type": "stream",
     "text": [
      "<class 'pandas.core.frame.DataFrame'>\n",
      "Int64Index: 5267793 entries, 0 to 2706967\n",
      "Data columns (total 17 columns):\n",
      " #   Column          Dtype \n",
      "---  ------          ----- \n",
      " 0   EventID         int64 \n",
      " 1   Season          int64 \n",
      " 2   DayNum          int64 \n",
      " 3   WTeamID         int64 \n",
      " 4   LTeamID         int64 \n",
      " 5   WFinalScore     int64 \n",
      " 6   LFinalScore     int64 \n",
      " 7   WCurrentScore   int64 \n",
      " 8   LCurrentScore   int64 \n",
      " 9   ElapsedSeconds  int64 \n",
      " 10  EventTeamID     int64 \n",
      " 11  EventPlayerID   int64 \n",
      " 12  EventType       object\n",
      " 13  EventSubType    object\n",
      " 14  X               int64 \n",
      " 15  Y               int64 \n",
      " 16  Area            int64 \n",
      "dtypes: int64(15), object(2)\n",
      "memory usage: 723.4+ MB\n"
     ]
    }
   ],
   "source": [
    "events.info()"
   ]
  },
  {
   "cell_type": "code",
   "execution_count": 125,
   "metadata": {},
   "outputs": [
    {
     "data": {
      "text/plain": [
       "EventID                0\n",
       "Season                 0\n",
       "DayNum                 0\n",
       "WTeamID                0\n",
       "LTeamID                0\n",
       "WFinalScore            0\n",
       "LFinalScore            0\n",
       "WCurrentScore          0\n",
       "LCurrentScore          0\n",
       "ElapsedSeconds         0\n",
       "EventTeamID            0\n",
       "EventPlayerID          0\n",
       "EventType              0\n",
       "EventSubType      569568\n",
       "X                      0\n",
       "Y                      0\n",
       "Area                   0\n",
       "dtype: int64"
      ]
     },
     "execution_count": 125,
     "metadata": {},
     "output_type": "execute_result"
    }
   ],
   "source": [
    "events.isna().sum()"
   ]
  },
  {
   "cell_type": "code",
   "execution_count": 127,
   "metadata": {},
   "outputs": [
    {
     "name": "stdout",
     "output_type": "stream",
     "text": [
      "Number of classes in: EventType\n",
      "16\n",
      "-----------------------------------\n",
      "Number of classes in: EventSubType\n",
      "52\n",
      "-----------------------------------\n"
     ]
    }
   ],
   "source": [
    "events_cats = events.select_dtypes(include=\"object\").columns\n",
    "for col in events_cats:\n",
    "    print(\"Number of classes in:\", col)\n",
    "    print(events[col].nunique())\n",
    "    print(\"-----------------------------------\")"
   ]
  },
  {
   "cell_type": "code",
   "execution_count": null,
   "metadata": {},
   "outputs": [],
   "source": [
    "HwyMpgByClass = []\n",
    "\n",
    "for t in vehicleclass: # iterate over all the vehicle classes\n",
    "    summpg = 0\n",
    "    vclasscount = 0\n",
    "    for d in mpg: # iterate over all dictionaries\n",
    "        if d['class'] == t: # if the cylinder amount type matches,\n",
    "            summpg += float(d['hwy']) # add the hwy mpg\n",
    "            vclasscount += 1 # increment the count\n",
    "    HwyMpgByClass.append((t, summpg / vclasscount)) # append the tuple ('class', 'avg mpg')\n",
    "\n",
    "HwyMpgByClass.sort(key=lambda x: x[1])\n",
    "HwyMpgByClass"
   ]
  },
  {
   "cell_type": "code",
   "execution_count": 153,
   "metadata": {},
   "outputs": [],
   "source": [
    "events_season = set(events[\"Season\"].values)\n",
    "season_won_avg = []"
   ]
  },
  {
   "cell_type": "code",
   "execution_count": 150,
   "metadata": {},
   "outputs": [
    {
     "ename": "TypeError",
     "evalue": "string indices must be integers",
     "output_type": "error",
     "traceback": [
      "\u001b[0;31m---------------------------------------------------------------------------\u001b[0m",
      "\u001b[0;31mTypeError\u001b[0m                                 Traceback (most recent call last)",
      "\u001b[0;32m<ipython-input-150-b446cb988330>\u001b[0m in \u001b[0;36m<module>\u001b[0;34m\u001b[0m\n\u001b[1;32m      6\u001b[0m     \u001b[0mseasoncount\u001b[0m \u001b[0;34m=\u001b[0m \u001b[0;36m0\u001b[0m\u001b[0;34m\u001b[0m\u001b[0;34m\u001b[0m\u001b[0m\n\u001b[1;32m      7\u001b[0m     \u001b[0;32mfor\u001b[0m \u001b[0md\u001b[0m \u001b[0;32min\u001b[0m \u001b[0mevents\u001b[0m\u001b[0;34m:\u001b[0m\u001b[0;34m\u001b[0m\u001b[0;34m\u001b[0m\u001b[0m\n\u001b[0;32m----> 8\u001b[0;31m             \u001b[0;32mif\u001b[0m \u001b[0md\u001b[0m\u001b[0;34m[\u001b[0m\u001b[0;34m\"Season\"\u001b[0m\u001b[0;34m]\u001b[0m \u001b[0;34m==\u001b[0m \u001b[0ms\u001b[0m\u001b[0;34m:\u001b[0m\u001b[0;34m\u001b[0m\u001b[0;34m\u001b[0m\u001b[0m\n\u001b[0m\u001b[1;32m      9\u001b[0m                 \u001b[0msumwon\u001b[0m \u001b[0;34m+=\u001b[0m \u001b[0mfloat\u001b[0m\u001b[0;34m(\u001b[0m\u001b[0md\u001b[0m\u001b[0;34m[\u001b[0m\u001b[0;34m\"Season\"\u001b[0m\u001b[0;34m]\u001b[0m\u001b[0;34m)\u001b[0m\u001b[0;34m\u001b[0m\u001b[0;34m\u001b[0m\u001b[0m\n\u001b[1;32m     10\u001b[0m                 \u001b[0mseasoncount\u001b[0m \u001b[0;34m+=\u001b[0m \u001b[0;36m1\u001b[0m\u001b[0;34m\u001b[0m\u001b[0;34m\u001b[0m\u001b[0m\n",
      "\u001b[0;31mTypeError\u001b[0m: string indices must be integers"
     ]
    }
   ],
   "source": [
    "for s in events_season:\n",
    "    sumwon = 0\n",
    "    seasoncount = 0\n",
    "    for d in events:\n",
    "            if d[\"Season\"] == s:\n",
    "                sumwon += float(d[\"Season\"])\n",
    "                seasoncount += 1\n",
    "    season_won_avg.append((s, sumwon / seasoncount))\n",
    "\n",
    "season_won_avg.sort(key=lambda x: x[1])\n",
    "season_won_avg"
   ]
  },
  {
   "cell_type": "code",
   "execution_count": 154,
   "metadata": {},
   "outputs": [
    {
     "data": {
      "text/plain": [
       "{2015, 2019}"
      ]
     },
     "execution_count": 154,
     "metadata": {},
     "output_type": "execute_result"
    }
   ],
   "source": [
    "events_season"
   ]
  },
  {
   "cell_type": "code",
   "execution_count": 143,
   "metadata": {},
   "outputs": [
    {
     "data": {
      "text/plain": [
       "2.0"
      ]
     },
     "execution_count": 143,
     "metadata": {},
     "output_type": "execute_result"
    }
   ],
   "source": []
  },
  {
   "cell_type": "code",
   "execution_count": null,
   "metadata": {},
   "outputs": [],
   "source": []
  }
 ],
 "metadata": {
  "kernelspec": {
   "display_name": "my-virtualenv-name",
   "language": "python",
   "name": "my-virtualenv-name"
  },
  "language_info": {
   "codemirror_mode": {
    "name": "ipython",
    "version": 3
   },
   "file_extension": ".py",
   "mimetype": "text/x-python",
   "name": "python",
   "nbconvert_exporter": "python",
   "pygments_lexer": "ipython3",
   "version": "3.8.1"
  }
 },
 "nbformat": 4,
 "nbformat_minor": 4
}
